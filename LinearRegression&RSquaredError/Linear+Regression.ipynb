{
 "cells": [
  {
   "cell_type": "code",
   "execution_count": 133,
   "metadata": {},
   "outputs": [],
   "source": [
    "# y = mx + b\n",
    "# m = best fit slope\n",
    "# b = y intercept\n",
    "\n",
    "# m = ((x'.y') - (x.y)') / ((x')^2 - (x^2)')\n",
    "# b = \n",
    "\n",
    "from statistics import mean\n",
    "import numpy as np\n",
    "import matplotlib.pyplot as plt\n",
    "import random\n",
    "\n",
    "xs = np.array([1, 2, 3, 4, 5, 6], dtype=np.float64)\n",
    "ys = np.array([5, 4, 6, 5, 6, 7], dtype=np.float64)"
   ]
  },
  {
   "cell_type": "code",
   "execution_count": 134,
   "metadata": {},
   "outputs": [],
   "source": [
    "def create_dataset(datasetsize, variance, step=2, correlation=False):\n",
    "    val = 1\n",
    "    ys = []\n",
    "    for i in range(datasetsize):\n",
    "        y = val + random.randrange(-variance, variance)\n",
    "        ys.append(y)\n",
    "        if correlation and correlation == 'pos':\n",
    "            val += step\n",
    "        elif correlation and correlation == 'neg':\n",
    "            val -= step\n",
    "    xs = [i for i in range(datasetsize)]\n",
    "\n",
    "    return np.array(xs, dtype=np.float64), np.array(ys, dtype=np.float64)\n",
    "\n",
    "def best_fit_slope_and_intercept(xs, ys): \n",
    "    m =  ( ((mean(xs) * mean(ys)) - mean(xs*ys)) /\n",
    "    ((mean(xs) * mean(xs)) - mean(xs*xs)) )\n",
    "    \n",
    "    b = mean(ys) - m*mean(xs)\n",
    "    return m, b\n",
    "\n",
    "def squared_error(ys_orig, ys_line):\n",
    "    return sum((ys_line - ys_orig)**2)\n",
    "\n",
    "def coefficient_of_determination(ys_orig, ys_line):\n",
    "    y_mean_line = [mean(ys_orig) for y in ys_orig]\n",
    "    squared_error_reg = squared_error(ys_orig, ys_line)\n",
    "    squared_error_y_mean = squared_error(ys_orig, y_mean_line)\n",
    "    print(\"regression line error: {r}\\nmean line error: {m}\".format(r=squared_error_reg, m=squared_error_y_mean))\n",
    "    return 1 - (squared_error_reg / squared_error_y_mean)"
   ]
  },
  {
   "cell_type": "code",
   "execution_count": 135,
   "metadata": {},
   "outputs": [
    {
     "data": {
      "image/png": "[encoded data removed]",
      "text/plain": [
       "<Figure size 432x288 with 1 Axes>"
      ]
     },
     "metadata": {
      "needs_background": "light"
     },
     "output_type": "display_data"
    },
    {
     "data": {
      "text/plain": [
       "(1.6389305816135087, -0.18414634146342124)"
      ]
     },
     "execution_count": 135,
     "metadata": {},
     "output_type": "execute_result"
    }
   ],
   "source": [
    "xs, ys = create_dataset(40, 80, 2, correlation='pos')\n",
    "plt.scatter(xs, ys)\n",
    "plt.show()\n",
    "\n",
    "\n",
    "m, b = best_fit_slope_and_intercept(xs, ys)\n",
    "regression_line = np.array([m*x + b for x in xs])\n",
    "\n",
    "m, b"
   ]
  },
  {
   "cell_type": "code",
   "execution_count": 136,
   "metadata": {},
   "outputs": [
    {
     "data": {
      "image/png": "[encoded data removed]",
      "text/plain": [
       "<Figure size 432x288 with 1 Axes>"
      ]
     },
     "metadata": {
      "needs_background": "light"
     },
     "output_type": "display_data"
    }
   ],
   "source": [
    "predict_x = 8\n",
    "predict_y = (m*predict_x + b)\n",
    "plt.scatter(xs, ys)\n",
    "plt.plot(xs, regression_line)\n",
    "plt.scatter(predict_x, predict_y, color='green')\n",
    "plt.show()"
   ]
  },
  {
   "cell_type": "code",
   "execution_count": 137,
   "metadata": {},
   "outputs": [
    {
     "name": "stdout",
     "output_type": "stream",
     "text": [
      "regression line error: 61142.09690431521\n",
      "mean line error: 75458.975\n"
     ]
    },
    {
     "data": {
      "text/plain": [
       "0.18973061979287154"
      ]
     },
     "execution_count": 137,
     "metadata": {},
     "output_type": "execute_result"
    }
   ],
   "source": [
    "r_squared = coefficient_of_determination(ys, regression_line)\n",
    "r_squared"
   ]
  }
 ],
 "metadata": {
  "kernelspec": {
   "display_name": "Python 3",
   "language": "python",
   "name": "python3"
  },
  "language_info": {
   "codemirror_mode": {
    "name": "ipython",
    "version": 3
   },
   "file_extension": ".py",
   "mimetype": "text/x-python",
   "name": "python",
   "nbconvert_exporter": "python",
   "pygments_lexer": "ipython3",
   "version": "3.7.2"
  }
 },
 "nbformat": 4,
 "nbformat_minor": 2
}
